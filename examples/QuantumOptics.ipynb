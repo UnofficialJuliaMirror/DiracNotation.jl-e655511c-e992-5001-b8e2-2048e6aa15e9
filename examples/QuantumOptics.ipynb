{
 "cells": [
  {
   "cell_type": "code",
   "execution_count": 1,
   "metadata": {},
   "outputs": [],
   "source": [
    "using QuantumOptics"
   ]
  },
  {
   "cell_type": "markdown",
   "metadata": {},
   "source": [
    "# Spin"
   ]
  },
  {
   "cell_type": "code",
   "execution_count": 2,
   "metadata": {},
   "outputs": [
    {
     "data": {
      "text/plain": [
       "Ket(dim=2)\n",
       "  basis: Spin(1/2)\n",
       " 1.0+0.0im\n",
       " 0.0+0.0im"
      ]
     },
     "execution_count": 2,
     "metadata": {},
     "output_type": "execute_result"
    }
   ],
   "source": [
    "spinup(SpinBasis(1//2))"
   ]
  },
  {
   "cell_type": "code",
   "execution_count": 3,
   "metadata": {},
   "outputs": [
    {
     "data": {
      "text/plain": [
       "Ket(dim=2)\n",
       "  basis: Spin(1/2)\n",
       " 0.0+0.0im\n",
       " 1.0+0.0im"
      ]
     },
     "execution_count": 3,
     "metadata": {},
     "output_type": "execute_result"
    }
   ],
   "source": [
    "spindown(SpinBasis(1//2))"
   ]
  },
  {
   "cell_type": "markdown",
   "metadata": {},
   "source": [
    "# Fock space"
   ]
  },
  {
   "cell_type": "code",
   "execution_count": 4,
   "metadata": {},
   "outputs": [
    {
     "data": {
      "text/plain": [
       "Ket(dim=11)\n",
       "  basis: Fock(cutoff=10)\n",
       "    0.923116+0.0im\n",
       "    0.369247+0.0im\n",
       "    0.104439+0.0im\n",
       "   0.0241191+0.0im\n",
       "  0.00482382+0.0im\n",
       " 0.000862911+0.0im\n",
       " 0.000140913+0.0im\n",
       "   2.1304e-5+0.0im\n",
       "  3.01284e-6+0.0im\n",
       "  4.01712e-7+0.0im\n",
       "   5.0813e-8+0.0im"
      ]
     },
     "execution_count": 4,
     "metadata": {},
     "output_type": "execute_result"
    }
   ],
   "source": [
    "N = 10\n",
    "b = FockBasis(N)\n",
    "alpha = 0.4\n",
    "psi = coherentstate(b, alpha)"
   ]
  },
  {
   "cell_type": "code",
   "execution_count": 5,
   "metadata": {},
   "outputs": [
    {
     "name": "stdout",
     "output_type": "stream",
     "text": [
      "Ket(dim=11)\n",
      "  basis: Fock(cutoff=10)\n",
      "    0.923116+0.0im\n",
      "    0.369247+0.0im\n",
      "    0.104439+0.0im\n",
      "   0.0241191+0.0im\n",
      "  0.00482382+0.0im\n",
      " 0.000862911+0.0im\n",
      " 0.000140913+0.0im\n",
      "   2.1304e-5+0.0im\n",
      "  3.01284e-6+0.0im\n",
      "  4.01712e-7+0.0im\n",
      "   5.0813e-8+0.0im"
     ]
    }
   ],
   "source": [
    "print(psi) "
   ]
  },
  {
   "cell_type": "code",
   "execution_count": 6,
   "metadata": {},
   "outputs": [
    {
     "data": {
      "text/plain": [
       "SparseOperator(dim=11x11)\n",
       "  basis: Fock(cutoff=10)\n",
       "  [1 ,  2]  =  1.0+0.0im\n",
       "  [2 ,  3]  =  1.41421+0.0im\n",
       "  [3 ,  4]  =  1.73205+0.0im\n",
       "  [4 ,  5]  =  2.0+0.0im\n",
       "  [5 ,  6]  =  2.23607+0.0im\n",
       "  [6 ,  7]  =  2.44949+0.0im\n",
       "  [7 ,  8]  =  2.64575+0.0im\n",
       "  [8 ,  9]  =  2.82843+0.0im\n",
       "  [9 , 10]  =  3.0+0.0im\n",
       "  [10, 11]  =  3.16228+0.0im"
      ]
     },
     "execution_count": 6,
     "metadata": {},
     "output_type": "execute_result"
    }
   ],
   "source": [
    "a = destroy(b)"
   ]
  },
  {
   "cell_type": "markdown",
   "metadata": {},
   "source": [
    "# N-Level"
   ]
  },
  {
   "cell_type": "code",
   "execution_count": 7,
   "metadata": {},
   "outputs": [
    {
     "data": {
      "text/plain": [
       "Ket(dim=3)\n",
       "  basis: NLevel(N=3)\n",
       " 0.0+0.0im\n",
       " 1.0+0.0im\n",
       " 0.0+0.0im"
      ]
     },
     "execution_count": 7,
     "metadata": {},
     "output_type": "execute_result"
    }
   ],
   "source": [
    "psi1 = basisstate(NLevelBasis(3), 2)"
   ]
  },
  {
   "cell_type": "code",
   "execution_count": 8,
   "metadata": {},
   "outputs": [
    {
     "data": {
      "text/plain": [
       "Ket(dim=5)\n",
       "  basis: NLevel(N=5)\n",
       " 0.0+0.0im\n",
       " 0.0+0.0im\n",
       " 1.0+0.0im\n",
       " 0.0+0.0im\n",
       " 0.0+0.0im"
      ]
     },
     "execution_count": 8,
     "metadata": {},
     "output_type": "execute_result"
    }
   ],
   "source": [
    "psi1 = basisstate(NLevelBasis(3), 2)\n",
    "psi2 = basisstate(NLevelBasis(5), 3)"
   ]
  },
  {
   "cell_type": "code",
   "execution_count": 9,
   "metadata": {},
   "outputs": [
    {
     "name": "stdout",
     "output_type": "stream",
     "text": [
      "Ket(dim=3)\n",
      "  basis: NLevel(N=3)\n",
      " 0.0+0.0im\n",
      " 1.0+0.0im\n",
      " 0.0+0.0im"
     ]
    }
   ],
   "source": [
    "print(psi1)"
   ]
  },
  {
   "cell_type": "code",
   "execution_count": 10,
   "metadata": {},
   "outputs": [
    {
     "data": {
      "text/plain": [
       "Bra(dim=3)\n",
       "  basis: NLevel(N=3)\n",
       " 0.0-0.0im\n",
       " 1.0-0.0im\n",
       " 0.0-0.0im"
      ]
     },
     "execution_count": 10,
     "metadata": {},
     "output_type": "execute_result"
    }
   ],
   "source": [
    "dagger(psi1)"
   ]
  },
  {
   "cell_type": "code",
   "execution_count": 11,
   "metadata": {},
   "outputs": [
    {
     "data": {
      "text/plain": [
       "DenseOperator(dim=3x3)\n",
       "  basis: NLevel(N=3)\n",
       " 0.0+0.0im  0.0+0.0im  0.0+0.0im\n",
       " 0.0+0.0im  1.0+0.0im  0.0+0.0im\n",
       " 0.0+0.0im  0.0+0.0im  0.0+0.0im"
      ]
     },
     "execution_count": 11,
     "metadata": {},
     "output_type": "execute_result"
    }
   ],
   "source": [
    "dm(psi1)"
   ]
  },
  {
   "cell_type": "code",
   "execution_count": 12,
   "metadata": {
    "scrolled": true
   },
   "outputs": [
    {
     "data": {
      "text/plain": [
       "DenseOperator(dim=15x10)\n",
       "  basis left:  [NLevel(N=3) ⊗ NLevel(N=5)]\n",
       "  basis right: NLevel(N=10)\n",
       " 0.0+0.0im  0.0+0.0im  0.0+0.0im  …  0.0+0.0im  0.0+0.0im  0.0+0.0im\n",
       " 0.0+0.0im  0.0+0.0im  0.0+0.0im     0.0+0.0im  0.0+0.0im  0.0+0.0im\n",
       " 0.0+0.0im  0.0+0.0im  0.0+0.0im     0.0+0.0im  0.0+0.0im  0.0+0.0im\n",
       " 0.0+0.0im  0.0+0.0im  0.0+0.0im     0.0+0.0im  0.0+0.0im  0.0+0.0im\n",
       " 0.0+0.0im  0.0+0.0im  0.0+0.0im     0.0+0.0im  0.0+0.0im  0.0+0.0im\n",
       " 0.0+0.0im  0.0+0.0im  0.0+0.0im  …  0.0+0.0im  0.0+0.0im  0.0+0.0im\n",
       " 0.0+0.0im  0.0+0.0im  0.0+0.0im     0.0+0.0im  0.0+0.0im  0.0+0.0im\n",
       " 0.0+0.0im  0.0+0.0im  0.0+0.0im     0.0+0.0im  0.0+0.0im  0.0+0.0im\n",
       " 0.0+0.0im  0.0+0.0im  0.0+0.0im     0.0+0.0im  0.0+0.0im  0.0+0.0im\n",
       " 0.0+0.0im  0.0+0.0im  0.0+0.0im     0.0+0.0im  0.0+0.0im  0.0+0.0im\n",
       " 0.0+0.0im  0.0+0.0im  0.0+0.0im  …  0.0+0.0im  0.0+0.0im  0.0+0.0im\n",
       " 0.0+0.0im  0.0+0.0im  0.0+0.0im     0.0+0.0im  0.0+0.0im  0.0+0.0im\n",
       " 0.0+0.0im  0.0+0.0im  0.0+0.0im     0.0+0.0im  0.0+0.0im  0.0+0.0im\n",
       " 0.0+0.0im  0.0+0.0im  0.0+0.0im     0.0+0.0im  0.0+0.0im  0.0+0.0im\n",
       " 0.0+0.0im  0.0+0.0im  0.0+0.0im     0.0+0.0im  0.0+0.0im  0.0+0.0im"
      ]
     },
     "execution_count": 12,
     "metadata": {},
     "output_type": "execute_result"
    }
   ],
   "source": [
    "(psi1 ⊗ psi2)⊗ dagger(basisstate(NLevelBasis(10), 5))"
   ]
  },
  {
   "cell_type": "code",
   "execution_count": 13,
   "metadata": {},
   "outputs": [
    {
     "name": "stdout",
     "output_type": "stream",
     "text": [
      "QuantumOptics v0.5.2\n",
      "\n",
      "Julia Version 0.6.2\n",
      "Commit d386e40 (2017-12-13 18:08 UTC)\n",
      "Platform Info:\n",
      "  OS: Linux (x86_64-pc-linux-gnu)\n",
      "  CPU: Intel(R) Xeon(R) CPU           E5645  @ 2.40GHz\n",
      "  WORD_SIZE: 64\n",
      "  BLAS: libopenblas (DYNAMIC_ARCH NO_AFFINITY Nehalem)\n",
      "  LAPACK: libopenblas\n",
      "  LIBM: libm\n",
      "  LLVM: libLLVM-3.9.1 (ORCJIT, westmere)\n"
     ]
    }
   ],
   "source": [
    "println(\"QuantumOptics v\", Pkg.installed(\"QuantumOptics\"), \"\\n\")\n",
    "versioninfo()"
   ]
  }
 ],
 "metadata": {
  "kernelspec": {
   "display_name": "Julia 0.6.2",
   "language": "julia",
   "name": "julia-0.6"
  },
  "language_info": {
   "file_extension": ".jl",
   "mimetype": "application/julia",
   "name": "julia",
   "version": "0.6.2"
  },
  "toc": {
   "nav_menu": {},
   "number_sections": true,
   "sideBar": true,
   "skip_h1_title": false,
   "toc_cell": false,
   "toc_position": {},
   "toc_section_display": "block",
   "toc_window_display": false
  }
 },
 "nbformat": 4,
 "nbformat_minor": 2
}
