{
 "cells": [
  {
   "cell_type": "markdown",
   "metadata": {},
   "source": [
    "# DiracNotation.jl sample\n",
    "\n",
    "This package is used with [QuantumOptics.jl](https://github.com/qojulia/QuantumOptics.jl).  \n",
    "By using this package, matrix representation is changed into Dirac notation.\n",
    "\n",
    "## Basic usage\n",
    "\n",
    "In order to change display style, all you have to do is import this package."
   ]
  },
  {
   "cell_type": "code",
   "execution_count": 1,
   "metadata": {},
   "outputs": [],
   "source": [
    "using QuantumOptics, DiracNotation"
   ]
  },
  {
   "cell_type": "markdown",
   "metadata": {},
   "source": [
    "After import, matrix representation is changed into Dirac notation."
   ]
  },
  {
   "cell_type": "code",
   "execution_count": 2,
   "metadata": {},
   "outputs": [
    {
     "data": {
      "text/markdown": [
       "Ket(dim=2)<br> &nbsp;&nbsp;&nbsp;&nbsp; basis: Spin(1/2)<br>$| \\mathrm{State} \\rangle = | 0 \\rangle$"
      ],
      "text/plain": [
       "Ket(dim=2)\n",
       "  basis: Spin(1/2)\n",
       "|\\mathrm{State}⟩ = |0⟩"
      ]
     },
     "execution_count": 2,
     "metadata": {},
     "output_type": "execute_result"
    }
   ],
   "source": [
    "b = SpinBasis(1//2)\n",
    "spinup(b)"
   ]
  },
  {
   "cell_type": "markdown",
   "metadata": {},
   "source": [
    "If you want to restore to original style, you can disable Dirac notation rendering."
   ]
  },
  {
   "cell_type": "code",
   "execution_count": 3,
   "metadata": {},
   "outputs": [
    {
     "data": {
      "text/markdown": [
       "Ket(dim=2)<br>&nbsp;&nbsp;&nbsp;&nbsp;basis:&nbsp;&nbsp;Spin(1/2)<br>&nbsp;&nbsp;1.0+0.0im<br>&nbsp;&nbsp;0.0+0.0im"
      ],
      "text/plain": [
       "Ket(dim=2)\n",
       "  basis: Spin(1/2)\n",
       " 1.0+0.0im\n",
       " 0.0+0.0im"
      ]
     },
     "execution_count": 3,
     "metadata": {},
     "output_type": "execute_result"
    }
   ],
   "source": [
    "DiracNotation.set_properties(isdiracstyle=false)\n",
    "spinup(b)"
   ]
  },
  {
   "cell_type": "markdown",
   "metadata": {},
   "source": [
    "# Spin"
   ]
  },
  {
   "cell_type": "code",
   "execution_count": 4,
   "metadata": {},
   "outputs": [],
   "source": [
    "DiracNotation.set_properties(isdiracstyle=true)"
   ]
  },
  {
   "cell_type": "code",
   "execution_count": 5,
   "metadata": {},
   "outputs": [
    {
     "data": {
      "text/markdown": [
       "Ket(dim=2)<br> &nbsp;&nbsp;&nbsp;&nbsp; basis: Spin(1/2)<br>$| \\mathrm{State} \\rangle = | 0 \\rangle$"
      ],
      "text/plain": [
       "Ket(dim=2)\n",
       "  basis: Spin(1/2)\n",
       "|\\mathrm{State}⟩ = |0⟩"
      ]
     },
     "execution_count": 5,
     "metadata": {},
     "output_type": "execute_result"
    }
   ],
   "source": [
    "up = spinup(SpinBasis(1//2))"
   ]
  },
  {
   "cell_type": "code",
   "execution_count": 6,
   "metadata": {},
   "outputs": [
    {
     "data": {
      "text/markdown": [
       "Ket(dim=2)<br> &nbsp;&nbsp;&nbsp;&nbsp; basis: Spin(1/2)<br>$| \\mathrm{State} \\rangle = | 1 \\rangle$"
      ],
      "text/plain": [
       "Ket(dim=2)\n",
       "  basis: Spin(1/2)\n",
       "|\\mathrm{State}⟩ = |1⟩"
      ]
     },
     "execution_count": 6,
     "metadata": {},
     "output_type": "execute_result"
    }
   ],
   "source": [
    "down = spindown(SpinBasis(1//2))"
   ]
  },
  {
   "cell_type": "code",
   "execution_count": 7,
   "metadata": {},
   "outputs": [
    {
     "data": {
      "text/markdown": [
       "Ket(dim=4)<br> &nbsp;&nbsp;&nbsp;&nbsp; basis: [Spin(1/2) ⊗ Spin(1/2)]<br>$| \\mathrm{State} \\rangle = 0.707 | 00 \\rangle+0.707 | 11 \\rangle$"
      ],
      "text/plain": [
       "Ket(dim=4)\n",
       "  basis: [Spin(1/2) ⊗ Spin(1/2)]\n",
       "|\\mathrm{State}⟩ = 0.707|00⟩ + 0.707|11⟩"
      ]
     },
     "execution_count": 7,
     "metadata": {},
     "output_type": "execute_result"
    }
   ],
   "source": [
    "b = SpinBasis(1//2)\n",
    "outer(x,y) = x ⊗ dagger(y)\n",
    "hadamard() = (dm(up) - dm(down) + outer(up,down) + outer(down,up)) / sqrt(2)\n",
    "cnot() = dm(up) ⊗ one(b) + dm(down) ⊗ sigmax(b)\n",
    "cnot() * (hadamard() ⊗ one(b)) * (up ⊗ up)"
   ]
  },
  {
   "cell_type": "code",
   "execution_count": 8,
   "metadata": {},
   "outputs": [
    {
     "data": {
      "text/markdown": [
       "Ket(dim=16)<br> &nbsp;&nbsp;&nbsp;&nbsp; basis: [Spin(1/2) ⊗ Spin(1/2) ⊗ Spin(1/2) ⊗ Spin(1/2)]<br>$| \\mathrm{State} \\rangle = 0.25 | 0000 \\rangle+0.25 | 0001 \\rangle+0.25 | 0010 \\rangle+0.25 | 0011 \\rangle + \\cdots +0.25 | 1100 \\rangle+0.25 | 1101 \\rangle+0.25 | 1110 \\rangle+0.25 | 1111 \\rangle$"
      ],
      "text/plain": [
       "Ket(dim=16)\n",
       "  basis: [Spin(1/2) ⊗ Spin(1/2) ⊗ Spin(1/2) ⊗ Spin(1/2)]\n",
       "|\\mathrm{State}⟩ = 0.25|0000⟩ + 0.25|0001⟩ + 0.25|0010⟩ + 0.25|0011⟩ + ⋯  + 0.25|1100⟩ + 0.25|1101⟩ + 0.25|1110⟩ + 0.25|1111⟩"
      ]
     },
     "execution_count": 8,
     "metadata": {},
     "output_type": "execute_result"
    }
   ],
   "source": [
    "n = 4\n",
    "tensor([hadamard() for i in 1:n]...) * tensor([up for i in 1:n]...)"
   ]
  },
  {
   "cell_type": "code",
   "execution_count": 9,
   "metadata": {},
   "outputs": [
    {
     "data": {
      "text/markdown": [
       "Ket(dim=16)<br> &nbsp;&nbsp;&nbsp;&nbsp; basis: [Spin(1/2) ⊗ Spin(1/2) ⊗ Spin(1/2) ⊗ Spin(1/2)]<br>$| \\mathrm{State} \\rangle = 0.25 | 0000 \\rangle+0.25 | 0001 \\rangle+0.25 | 0010 \\rangle+0.25 | 0011 \\rangle+0.25 | 0100 \\rangle + \\cdots +0.25 | 1011 \\rangle+0.25 | 1100 \\rangle+0.25 | 1101 \\rangle+0.25 | 1110 \\rangle+0.25 | 1111 \\rangle$"
      ],
      "text/plain": [
       "Ket(dim=16)\n",
       "  basis: [Spin(1/2) ⊗ Spin(1/2) ⊗ Spin(1/2) ⊗ Spin(1/2)]\n",
       "|\\mathrm{State}⟩ = 0.25|0000⟩ + 0.25|0001⟩ + 0.25|0010⟩ + 0.25|0011⟩ + 0.25|0100⟩ + ⋯  + 0.25|1011⟩ + 0.25|1100⟩ + 0.25|1101⟩ + 0.25|1110⟩ + 0.25|1111⟩"
      ]
     },
     "execution_count": 9,
     "metadata": {},
     "output_type": "execute_result"
    }
   ],
   "source": [
    "# change the number of displayed terms\n",
    "DiracNotation.set_properties(number_term=10)\n",
    "\n",
    "n = 4\n",
    "tensor([hadamard() for i in 1:n]...) * tensor([up for i in 1:n]...)"
   ]
  },
  {
   "cell_type": "code",
   "execution_count": 10,
   "metadata": {},
   "outputs": [
    {
     "data": {
      "text/markdown": [
       "Ket(dim=16)<br> &nbsp;&nbsp;&nbsp;&nbsp; basis: [Spin(1/2) ⊗ Spin(1/2) ⊗ Spin(1/2) ⊗ Spin(1/2)]<br>$| \\mathrm{State} \\rangle = 0.25 | 0000 \\rangle+0.25 | 0001 \\rangle+0.25 | 0010 \\rangle+0.25 | 0011 \\rangle+0.25 | 0100 \\rangle+0.25 | 0101 \\rangle+0.25 | 0110 \\rangle+0.25 | 0111 \\rangle+0.25 | 1000 \\rangle+0.25 | 1001 \\rangle+0.25 | 1010 \\rangle+0.25 | 1011 \\rangle+0.25 | 1100 \\rangle+0.25 | 1101 \\rangle+0.25 | 1110 \\rangle+0.25 | 1111 \\rangle$"
      ],
      "text/plain": [
       "Ket(dim=16)\n",
       "  basis: [Spin(1/2) ⊗ Spin(1/2) ⊗ Spin(1/2) ⊗ Spin(1/2)]\n",
       "|\\mathrm{State}⟩ = 0.25|0000⟩ + 0.25|0001⟩ + 0.25|0010⟩ + 0.25|0011⟩ + 0.25|0100⟩ + 0.25|0101⟩ + 0.25|0110⟩ + 0.25|0111⟩ + 0.25|1000⟩ + 0.25|1001⟩ + 0.25|1010⟩ + 0.25|1011⟩ + 0.25|1100⟩ + 0.25|1101⟩ + 0.25|1110⟩ + 0.25|1111⟩"
      ]
     },
     "execution_count": 10,
     "metadata": {},
     "output_type": "execute_result"
    }
   ],
   "source": [
    "# display all non-zero terms\n",
    "DiracNotation.set_properties(isallterms=true)\n",
    "n = 4\n",
    "tensor([hadamard() for i in 1:n]...) * tensor([up for i in 1:n]...)"
   ]
  },
  {
   "cell_type": "markdown",
   "metadata": {},
   "source": [
    "# Fock space"
   ]
  },
  {
   "cell_type": "code",
   "execution_count": 11,
   "metadata": {},
   "outputs": [],
   "source": [
    "DiracNotation.set_properties(isallterms=false)"
   ]
  },
  {
   "cell_type": "code",
   "execution_count": 12,
   "metadata": {},
   "outputs": [
    {
     "data": {
      "text/markdown": [
       "Ket(dim=11)<br> &nbsp;&nbsp;&nbsp;&nbsp; basis: Fock(cutoff=10)<br>$| \\mathrm{State} \\rangle = 0.923 | 0 \\rangle+0.369 | 1 \\rangle+0.104 | 2 \\rangle+0.024 | 3 \\rangle+0.005 | 4 \\rangle + \\cdots +0.0 | 6 \\rangle+0.0 | 7 \\rangle+0.0 | 8 \\rangle+0.0 | 9 \\rangle+0.0 | 10 \\rangle$"
      ],
      "text/plain": [
       "Ket(dim=11)\n",
       "  basis: Fock(cutoff=10)\n",
       "|\\mathrm{State}⟩ = 0.923|0⟩ + 0.369|1⟩ + 0.104|2⟩ + 0.024|3⟩ + 0.005|4⟩ + ⋯  + 0.0|6⟩ + 0.0|7⟩ + 0.0|8⟩ + 0.0|9⟩ + 0.0|10⟩"
      ]
     },
     "execution_count": 12,
     "metadata": {},
     "output_type": "execute_result"
    }
   ],
   "source": [
    "N = 10\n",
    "b = FockBasis(N)\n",
    "alpha = 0.4\n",
    "psi = coherentstate(b, alpha)"
   ]
  },
  {
   "cell_type": "code",
   "execution_count": 13,
   "metadata": {},
   "outputs": [
    {
     "data": {
      "text/markdown": [
       "Ket(dim=11)<br> &nbsp;&nbsp;&nbsp;&nbsp; basis: Fock(cutoff=10)<br>$| \\mathrm{State} \\rangle = 0.92311635 | 0 \\rangle+0.36924654 | 1 \\rangle+0.10443869 | 2 \\rangle+0.02411908 | 3 \\rangle+0.00482382 | 4 \\rangle + \\cdots +0.00014091 | 6 \\rangle+2.13e-5 | 7 \\rangle+3.01e-6 | 8 \\rangle+4.0e-7 | 9 \\rangle+5.0e-8 | 10 \\rangle$"
      ],
      "text/plain": [
       "Ket(dim=11)\n",
       "  basis: Fock(cutoff=10)\n",
       "|\\mathrm{State}⟩ = 0.92311635|0⟩ + 0.36924654|1⟩ + 0.10443869|2⟩ + 0.02411908|3⟩ + 0.00482382|4⟩ + ⋯  + 0.00014091|6⟩ + 2.13e-5|7⟩ + 3.01e-6|8⟩ + 4.0e-7|9⟩ + 5.0e-8|10⟩"
      ]
     },
     "execution_count": 13,
     "metadata": {},
     "output_type": "execute_result"
    }
   ],
   "source": [
    "DiracNotation.set_properties(round_digit=8)\n",
    "psi"
   ]
  },
  {
   "cell_type": "code",
   "execution_count": 14,
   "metadata": {},
   "outputs": [
    {
     "data": {
      "text/markdown": [
       "SparseOperator(dim=11x11)<br>&nbsp;&nbsp;&nbsp;&nbsp;  basis: Fock(cutoff=10)<br>$\\mathrm{State} = | 0 \\rangle \\langle 1 |+1.414 | 1 \\rangle \\langle 2 |+1.732 | 2 \\rangle \\langle 3 |+2.0 | 3 \\rangle \\langle 4 |+2.236 | 4 \\rangle \\langle 5 |+2.449 | 5 \\rangle \\langle 6 |+2.646 | 6 \\rangle \\langle 7 |+2.828 | 7 \\rangle \\langle 8 |+3.0 | 8 \\rangle \\langle 9 |+3.162 | 9 \\rangle \\langle 10 |$"
      ],
      "text/plain": [
       "SparseOperator(dim=11x11)\n",
       "  basis: Fock(cutoff=10)\\mathrm{State} = |0⟩⟨1| +1.414 |1⟩⟨2| +1.732 |2⟩⟨3| +2.0 |3⟩⟨4| +2.236 |4⟩⟨5| +2.449 |5⟩⟨6| +2.646 |6⟩⟨7| +2.828 |7⟩⟨8| +3.0 |8⟩⟨9| +3.162 |9⟩⟨10|"
      ]
     },
     "execution_count": 14,
     "metadata": {},
     "output_type": "execute_result"
    },
    {
     "name": "stdout",
     "output_type": "stream",
     "text": [
      "\n"
     ]
    }
   ],
   "source": [
    "DiracNotation.set_properties(round_digit=3)\n",
    "a = destroy(b)"
   ]
  },
  {
   "cell_type": "markdown",
   "metadata": {},
   "source": [
    "# N-Level"
   ]
  },
  {
   "cell_type": "code",
   "execution_count": 15,
   "metadata": {},
   "outputs": [
    {
     "data": {
      "text/markdown": [
       "Ket(dim=3)<br> &nbsp;&nbsp;&nbsp;&nbsp; basis: NLevel(N=3)<br>$| \\mathrm{State} \\rangle = | 1 \\rangle$"
      ],
      "text/plain": [
       "Ket(dim=3)\n",
       "  basis: NLevel(N=3)\n",
       "|\\mathrm{State}⟩ = |1⟩"
      ]
     },
     "execution_count": 15,
     "metadata": {},
     "output_type": "execute_result"
    }
   ],
   "source": [
    "psi1 = basisstate(NLevelBasis(3), 2)"
   ]
  },
  {
   "cell_type": "code",
   "execution_count": 16,
   "metadata": {},
   "outputs": [
    {
     "data": {
      "text/markdown": [
       "Ket(dim=5)<br> &nbsp;&nbsp;&nbsp;&nbsp; basis: NLevel(N=5)<br>$| \\mathrm{State} \\rangle = | 2 \\rangle$"
      ],
      "text/plain": [
       "Ket(dim=5)\n",
       "  basis: NLevel(N=5)\n",
       "|\\mathrm{State}⟩ = |2⟩"
      ]
     },
     "execution_count": 16,
     "metadata": {},
     "output_type": "execute_result"
    }
   ],
   "source": [
    "psi1 = basisstate(NLevelBasis(3), 2)\n",
    "psi2 = basisstate(NLevelBasis(5), 3)"
   ]
  },
  {
   "cell_type": "code",
   "execution_count": 17,
   "metadata": {},
   "outputs": [
    {
     "data": {
      "text/markdown": [
       "Bra(dim=3)<br> &nbsp;&nbsp;&nbsp;&nbsp; basis: NLevel(N=3)<br>$\\langle \\mathrm{State} | = \\langle 1 |$"
      ],
      "text/plain": [
       "Bra(dim=3)\n",
       "  basis: NLevel(N=3)\n",
       "⟨\\mathrm{State}| = ⟨1|"
      ]
     },
     "execution_count": 17,
     "metadata": {},
     "output_type": "execute_result"
    }
   ],
   "source": [
    "dagger(psi1)"
   ]
  },
  {
   "cell_type": "code",
   "execution_count": 18,
   "metadata": {},
   "outputs": [
    {
     "data": {
      "text/markdown": [
       "DenseOperator(dim=3x3)<br>&nbsp;&nbsp;&nbsp;&nbsp;  basis: NLevel(N=3)<br>$\\mathrm{State} = | 1 \\rangle \\langle 1 |$"
      ],
      "text/plain": [
       "DenseOperator(dim=3x3)\n",
       "  basis: NLevel(N=3)\\mathrm{State} = |1⟩⟨1|"
      ]
     },
     "execution_count": 18,
     "metadata": {},
     "output_type": "execute_result"
    },
    {
     "name": "stdout",
     "output_type": "stream",
     "text": [
      "\n"
     ]
    }
   ],
   "source": [
    "dm(psi1)"
   ]
  },
  {
   "cell_type": "code",
   "execution_count": 19,
   "metadata": {
    "scrolled": true
   },
   "outputs": [
    {
     "data": {
      "text/markdown": [
       "DenseOperator(dim=15x10)<br>&nbsp;&nbsp;&nbsp;&nbsp;  basis left:  &nbsp;&nbsp;[NLevel(N=3) ⊗ NLevel(N=5)]<br>&nbsp;&nbsp;&nbsp;&nbsp;  basis right: NLevel(N=10)<br>$\\mathrm{State} = | 12 \\rangle \\langle 4 |$"
      ],
      "text/plain": [
       "DenseOperator(dim=15x10)\n",
       "  basis left:  [NLevel(N=3) ⊗ NLevel(N=5)]\n",
       "  basis right: NLevel(N=10)\\mathrm{State} = |12⟩⟨4|"
      ]
     },
     "execution_count": 19,
     "metadata": {},
     "output_type": "execute_result"
    },
    {
     "name": "stdout",
     "output_type": "stream",
     "text": [
      "\n"
     ]
    }
   ],
   "source": [
    "(psi1 ⊗ psi2)⊗ dagger(basisstate(NLevelBasis(10), 5))"
   ]
  },
  {
   "cell_type": "markdown",
   "metadata": {},
   "source": [
    "# change the name of LHS "
   ]
  },
  {
   "cell_type": "code",
   "execution_count": 20,
   "metadata": {},
   "outputs": [
    {
     "data": {
      "text/markdown": [
       "DenseOperator(dim=15x10)<br>&nbsp;&nbsp;&nbsp;&nbsp;  basis left:  &nbsp;&nbsp;[NLevel(N=3) ⊗ NLevel(N=5)]<br>&nbsp;&nbsp;&nbsp;&nbsp;  basis right: NLevel(N=10)<br>$\\rho = | 12 \\rangle \\langle 4 |$"
      ],
      "text/plain": [
       "DenseOperator(dim=15x10)\n",
       "  basis left:  [NLevel(N=3) ⊗ NLevel(N=5)]\n",
       "  basis right: NLevel(N=10)\\rho = |12⟩⟨4|"
      ]
     },
     "execution_count": 20,
     "metadata": {},
     "output_type": "execute_result"
    }
   ],
   "source": [
    "DiracNotation.set_properties(statename=\"\\\\rho\")\n",
    "(psi1 ⊗ psi2)⊗ dagger(basisstate(NLevelBasis(10), 5))"
   ]
  },
  {
   "cell_type": "markdown",
   "metadata": {},
   "source": [
    "# Dirac notation"
   ]
  },
  {
   "cell_type": "code",
   "execution_count": 21,
   "metadata": {},
   "outputs": [
    {
     "data": {
      "text/markdown": [
       "Ket(dim=3)<br> &nbsp;&nbsp;&nbsp;&nbsp; basis: NLevel(N=3)<br>"
      ]
     },
     "metadata": {},
     "output_type": "display_data"
    },
    {
     "data": {
      "text/latex": [
       "$| \\psi \\rangle = | 1 \\rangle$"
      ]
     },
     "metadata": {},
     "output_type": "display_data"
    },
    {
     "name": "stdout",
     "output_type": "stream",
     "text": [
      "\n"
     ]
    }
   ],
   "source": [
    "dirac(psi1)"
   ]
  },
  {
   "cell_type": "code",
   "execution_count": 22,
   "metadata": {},
   "outputs": [
    {
     "data": {
      "text/markdown": [
       "DenseOperator(dim=3x3)<br>&nbsp;&nbsp;&nbsp;&nbsp;  basis: NLevel(N=3)"
      ]
     },
     "metadata": {},
     "output_type": "display_data"
    },
    {
     "data": {
      "text/latex": [
       "$\\mathrm{Operator} = | 1 \\rangle \\langle 1 |$"
      ]
     },
     "metadata": {},
     "output_type": "display_data"
    }
   ],
   "source": [
    "dirac(dm(psi1))"
   ]
  },
  {
   "cell_type": "code",
   "execution_count": 23,
   "metadata": {},
   "outputs": [
    {
     "data": {
      "text/markdown": [
       "Ket(dim=3)<br> &nbsp;&nbsp;&nbsp;&nbsp; basis: NLevel(N=3)<br>"
      ]
     },
     "metadata": {},
     "output_type": "display_data"
    },
    {
     "data": {
      "text/latex": [
       "$| \\phi \\rangle = | 1 \\rangle$"
      ]
     },
     "metadata": {},
     "output_type": "display_data"
    }
   ],
   "source": [
    "dirac(psi1, \"\\\\phi\")"
   ]
  },
  {
   "cell_type": "code",
   "execution_count": 24,
   "metadata": {},
   "outputs": [
    {
     "data": {
      "text/markdown": [
       "Bra(dim=3)<br> &nbsp;&nbsp;&nbsp;&nbsp; basis: NLevel(N=3)<br>"
      ]
     },
     "metadata": {},
     "output_type": "display_data"
    },
    {
     "data": {
      "text/latex": [
       "$\\langle \\phi | = \\langle 1 |$"
      ]
     },
     "metadata": {},
     "output_type": "display_data"
    }
   ],
   "source": [
    "dirac(dagger(psi1), \"\\\\phi\")"
   ]
  },
  {
   "cell_type": "code",
   "execution_count": 25,
   "metadata": {},
   "outputs": [
    {
     "data": {
      "text/markdown": [
       "DenseOperator(dim=3x3)<br>&nbsp;&nbsp;&nbsp;&nbsp;  basis: NLevel(N=3)"
      ]
     },
     "metadata": {},
     "output_type": "display_data"
    },
    {
     "data": {
      "text/latex": [
       "$\\rho = | 1 \\rangle \\langle 1 |$"
      ]
     },
     "metadata": {},
     "output_type": "display_data"
    }
   ],
   "source": [
    "dirac(dm(psi1), \"\\\\rho\")"
   ]
  },
  {
   "cell_type": "code",
   "execution_count": 26,
   "metadata": {},
   "outputs": [
    {
     "data": {
      "text/markdown": [
       "DenseOperator(dim=3x15)<br>&nbsp;&nbsp;&nbsp;&nbsp;  basis left:  NLevel(N=3)<br>&nbsp;&nbsp;&nbsp;&nbsp;  basis right: [NLevel(N=3) ⊗ NLevel(N=5)]"
      ]
     },
     "metadata": {},
     "output_type": "display_data"
    },
    {
     "data": {
      "text/latex": [
       "$\\rho = | 1 \\rangle \\langle 12 |$"
      ]
     },
     "metadata": {},
     "output_type": "display_data"
    }
   ],
   "source": [
    "dirac(psi1 ⊗ dagger(psi1 ⊗ psi2), \"\\\\rho\")"
   ]
  },
  {
   "cell_type": "code",
   "execution_count": 27,
   "metadata": {},
   "outputs": [
    {
     "data": {
      "text/markdown": [
       "Ket(dim=3)<br> &nbsp;&nbsp;&nbsp;&nbsp; basis: NLevel(N=3)<br>"
      ]
     },
     "metadata": {},
     "output_type": "display_data"
    },
    {
     "data": {
      "text/latex": [
       "$| \\phi \\rangle = | 1 \\rangle$"
      ]
     },
     "metadata": {},
     "output_type": "display_data"
    },
    {
     "data": {
      "text/markdown": [
       "Bra(dim=3)<br> &nbsp;&nbsp;&nbsp;&nbsp; basis: NLevel(N=3)<br>"
      ]
     },
     "metadata": {},
     "output_type": "display_data"
    },
    {
     "data": {
      "text/latex": [
       "$\\langle \\phi | = \\langle 1 |$"
      ]
     },
     "metadata": {},
     "output_type": "display_data"
    }
   ],
   "source": [
    "dirac(psi1, \"\\\\phi\")\n",
    "dirac(dagger(psi1), \"\\\\phi\")"
   ]
  },
  {
   "cell_type": "code",
   "execution_count": 28,
   "metadata": {},
   "outputs": [
    {
     "data": {
      "text/markdown": [
       "DenseOperator(dim=2x2)<br>&nbsp;&nbsp;&nbsp;&nbsp;  basis: Spin(1/2)"
      ]
     },
     "metadata": {},
     "output_type": "display_data"
    },
    {
     "data": {
      "text/latex": [
       "$\\rho_A = | 0 \\rangle \\langle 0 |$"
      ]
     },
     "metadata": {},
     "output_type": "display_data"
    },
    {
     "data": {
      "text/markdown": [
       "DenseOperator(dim=2x2)<br>&nbsp;&nbsp;&nbsp;&nbsp;  basis: Spin(1/2)"
      ]
     },
     "metadata": {},
     "output_type": "display_data"
    },
    {
     "data": {
      "text/latex": [
       "$\\rho_B = 0.5 | 0 \\rangle \\langle 0 |+0.5 | 1 \\rangle \\langle 1 |$"
      ]
     },
     "metadata": {},
     "output_type": "display_data"
    },
    {
     "data": {
      "text/markdown": [
       "<br>**composite system**"
      ]
     },
     "metadata": {},
     "output_type": "display_data"
    },
    {
     "data": {
      "text/markdown": [
       "DenseOperator(dim=4x4)<br>&nbsp;&nbsp;&nbsp;&nbsp;  basis: [Spin(1/2) ⊗ Spin(1/2)]"
      ]
     },
     "metadata": {},
     "output_type": "display_data"
    },
    {
     "data": {
      "text/latex": [
       "$\\rho_{AB} = 0.5 | 00 \\rangle \\langle 00 |+0.5 | 01 \\rangle \\langle 01 |$"
      ]
     },
     "metadata": {},
     "output_type": "display_data"
    },
    {
     "data": {
      "text/markdown": [
       "DenseOperator(dim=2x2)<br>&nbsp;&nbsp;&nbsp;&nbsp;  basis: Spin(1/2)"
      ]
     },
     "metadata": {},
     "output_type": "display_data"
    },
    {
     "data": {
      "text/latex": [
       "$\\rho_A = | 0 \\rangle \\langle 0 |$"
      ]
     },
     "metadata": {},
     "output_type": "display_data"
    },
    {
     "data": {
      "text/markdown": [
       "DenseOperator(dim=2x2)<br>&nbsp;&nbsp;&nbsp;&nbsp;  basis: Spin(1/2)"
      ]
     },
     "metadata": {},
     "output_type": "display_data"
    },
    {
     "data": {
      "text/latex": [
       "$\\rho_B = 0.5 | 0 \\rangle \\langle 0 |+0.5 | 1 \\rangle \\langle 1 |$"
      ]
     },
     "metadata": {},
     "output_type": "display_data"
    }
   ],
   "source": [
    "rhoA = dm(up) \n",
    "dirac(rhoA, \"\\\\rho_A\")\n",
    "\n",
    "rhoB = 1/2 * ( dm(up) + dm(down))\n",
    "dirac(rhoB, \"\\\\rho_B\")\n",
    "\n",
    "display(\"text/markdown\", \"<br>**composite system**\")\n",
    "rhoAB = rhoA ⊗ rhoB\n",
    "dirac(rhoAB, \"\\\\rho_{AB}\")\n",
    "\n",
    "dirac(ptrace(rhoAB, 2), \"\\\\rho_A\")\n",
    "\n",
    "dirac(ptrace(rhoAB, 1), \"\\\\rho_B\")"
   ]
  },
  {
   "cell_type": "code",
   "execution_count": 29,
   "metadata": {},
   "outputs": [
    {
     "name": "stdout",
     "output_type": "stream",
     "text": [
      "QuantumOptics v0.5.2\n",
      "\n",
      "Julia Version 0.6.2\n",
      "Commit d386e40 (2017-12-13 18:08 UTC)\n",
      "Platform Info:\n",
      "  OS: Linux (x86_64-pc-linux-gnu)\n",
      "  CPU: Intel(R) Xeon(R) CPU           E5645  @ 2.40GHz\n",
      "  WORD_SIZE: 64\n",
      "  BLAS: libopenblas (DYNAMIC_ARCH NO_AFFINITY Nehalem)\n",
      "  LAPACK: libopenblas\n",
      "  LIBM: libm\n",
      "  LLVM: libLLVM-3.9.1 (ORCJIT, westmere)\n"
     ]
    }
   ],
   "source": [
    "println(\"QuantumOptics v\", Pkg.installed(\"QuantumOptics\"), \"\\n\")\n",
    "versioninfo()"
   ]
  }
 ],
 "metadata": {
  "kernelspec": {
   "display_name": "Julia 0.6.2",
   "language": "julia",
   "name": "julia-0.6"
  },
  "language_info": {
   "file_extension": ".jl",
   "mimetype": "application/julia",
   "name": "julia",
   "version": "0.6.2"
  },
  "toc": {
   "nav_menu": {},
   "number_sections": true,
   "sideBar": true,
   "skip_h1_title": false,
   "toc_cell": false,
   "toc_position": {},
   "toc_section_display": "block",
   "toc_window_display": false
  }
 },
 "nbformat": 4,
 "nbformat_minor": 2
}
